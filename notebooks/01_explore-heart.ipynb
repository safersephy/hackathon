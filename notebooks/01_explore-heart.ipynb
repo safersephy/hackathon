{
 "cells": [
  {
   "cell_type": "code",
   "execution_count": 1,
   "metadata": {},
   "outputs": [],
   "source": [
    "from pathlib import Path\n",
    "import pandas as pd"
   ]
  },
  {
   "cell_type": "markdown",
   "metadata": {},
   "source": [
    "# Arrhythmia Dataset\n",
    "\n",
    "- Number of Samples: 109446\n",
    "- Number of Categories: 5\n",
    "- Sampling Frequency: 125Hz\n",
    "- Data Source: Physionet's MIT-BIH Arrhythmia Dataset\n",
    "- Classes:\n",
    "    - 'Normal': 0, \n",
    "    - 'Supraventricular ectopic beat': 1, \n",
    "    - 'Ventricular ectopic beat': 2, \n",
    "    - 'Fusion beat': 3, \n",
    "    - 'Unknown beat': 4\n",
    "- All the samples are cropped, downsampled and padded with zeroes if necessary to the fixed dimension of 187. There is a target column named \"target\".\n",
    "\n",
    "How is the train/test split?"
   ]
  },
  {
   "cell_type": "code",
   "execution_count": 2,
   "metadata": {},
   "outputs": [
    {
     "data": {
      "text/plain": [
       "(87554, 10946)"
      ]
     },
     "execution_count": 2,
     "metadata": {},
     "output_type": "execute_result"
    }
   ],
   "source": [
    "datadir = Path('../data/raw')\n",
    "trainfile = datadir / 'heart_big_train.parq'\n",
    "validfile = datadir / 'heart_big_valid.parq'\n",
    "\n",
    "train_df = pd.read_parquet(trainfile)\n",
    "valid_df = pd.read_parquet(validfile)\n",
    "len(train_df), len(valid_df)"
   ]
  },
  {
   "cell_type": "markdown",
   "metadata": {},
   "source": [
    "And what about the balance of the target?"
   ]
  },
  {
   "cell_type": "code",
   "execution_count": 3,
   "metadata": {},
   "outputs": [
    {
     "data": {
      "text/plain": [
       "(target\n",
       " 0.0    82.772917\n",
       " 4.0     7.345181\n",
       " 2.0     6.610777\n",
       " 1.0     2.539005\n",
       " 3.0     0.732120\n",
       " Name: proportion, dtype: float64,\n",
       " target\n",
       " 0.0    82.760826\n",
       " 4.0     7.345149\n",
       " 2.0     6.614288\n",
       " 1.0     2.539741\n",
       " 3.0     0.739996\n",
       " Name: proportion, dtype: float64)"
      ]
     },
     "execution_count": 3,
     "metadata": {},
     "output_type": "execute_result"
    }
   ],
   "source": [
    "train_df.target.value_counts(), valid_df.target.value_counts()\n",
    "train_percentages = train_df.target.value_counts(normalize=True) * 100\n",
    "valid_percentages = valid_df.target.value_counts(normalize=True) * 100\n",
    "train_percentages,  valid_percentages"
   ]
  },
  {
   "cell_type": "markdown",
   "metadata": {},
   "source": [
    "What does the signal look like?"
   ]
  },
  {
   "cell_type": "code",
   "execution_count": 4,
   "metadata": {},
   "outputs": [
    {
     "name": "stdout",
     "output_type": "stream",
     "text": [
      "0      1.000000\n",
      "1      0.659459\n",
      "2      0.186486\n",
      "3      0.070270\n",
      "4      0.070270\n",
      "         ...   \n",
      "182    0.000000\n",
      "183    0.000000\n",
      "184    0.000000\n",
      "185    0.000000\n",
      "186    0.000000\n",
      "Name: 2, Length: 187, dtype: float64\n"
     ]
    },
    {
     "data": {
      "image/png": "[encoded data removed]",
      "text/plain": [
       "<Figure size 640x480 with 1 Axes>"
      ]
     },
     "metadata": {},
     "output_type": "display_data"
    }
   ],
   "source": [
    "import seaborn as sns\n",
    "import matplotlib.pyplot as plt\n",
    "\n",
    "signal = train_df.iloc[2, :-1]\n",
    "print(signal)\n",
    "\n",
    "sns.lineplot(data=signal)\n",
    "plt.xticks(range(0, len(signal), 25));"
   ]
  },
  {
   "cell_type": "code",
   "execution_count": 5,
   "metadata": {},
   "outputs": [
    {
     "data": {
      "text/plain": [
       "Index(['0', '1', '2', '3', '4', '5', '6', '7', '8', '9',\n",
       "       ...\n",
       "       '178', '179', '180', '181', '182', '183', '184', '185', '186',\n",
       "       'target'],\n",
       "      dtype='object', length=188)"
      ]
     },
     "execution_count": 5,
     "metadata": {},
     "output_type": "execute_result"
    }
   ],
   "source": [
    "train_df.columns"
   ]
  },
  {
   "cell_type": "code",
   "execution_count": null,
   "metadata": {},
   "outputs": [],
   "source": []
  }
 ],
 "metadata": {
  "kernelspec": {
   "display_name": ".venv",
   "language": "python",
   "name": "python3"
  },
  "language_info": {
   "codemirror_mode": {
    "name": "ipython",
    "version": 3
   },
   "file_extension": ".py",
   "mimetype": "text/x-python",
   "name": "python",
   "nbconvert_exporter": "python",
   "pygments_lexer": "ipython3",
   "version": "3.11.9"
  }
 },
 "nbformat": 4,
 "nbformat_minor": 2
}
