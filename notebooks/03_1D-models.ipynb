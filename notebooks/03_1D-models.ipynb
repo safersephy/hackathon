{
 "cells": [
  {
   "cell_type": "code",
   "execution_count": 19,
   "metadata": {},
   "outputs": [],
   "source": [
    "from mads_datasets.base import BaseDatastreamer\n",
    "from mltrainer.preprocessors import BasePreprocessor\n",
    "import matplotlib.pyplot as plt\n",
    "from pathlib import Path\n",
    "import pandas as pd\n",
    "import seaborn as sns\n",
    "from sklearn.metrics import confusion_matrix\n",
    "from torch import nn\n",
    "import torch\n",
    "\n",
    "from mads_hackathon import datasets, metrics\n",
    "import mltrainer\n",
    "import tomllib"
   ]
  },
  {
   "cell_type": "code",
   "execution_count": null,
   "metadata": {},
   "outputs": [],
   "source": []
  },
  {
   "cell_type": "code",
   "execution_count": 20,
   "metadata": {},
   "outputs": [
    {
     "data": {
      "text/plain": [
       "(True, True)"
      ]
     },
     "execution_count": 20,
     "metadata": {},
     "output_type": "execute_result"
    }
   ],
   "source": [
    "datadir = Path('../data/raw')\n",
    "trainfile = (datadir / \"heart_big_train.parq\").resolve()\n",
    "validfile = (datadir / \"heart_big_valid.parq\").resolve()\n",
    "trainfile.exists(), validfile.exists()"
   ]
  },
  {
   "cell_type": "markdown",
   "metadata": {},
   "source": [
    "Load the data"
   ]
  },
  {
   "cell_type": "code",
   "execution_count": 21,
   "metadata": {},
   "outputs": [
    {
     "data": {
      "text/plain": [
       "(Heartdataset (len 87554), Heartdataset (len 10946))"
      ]
     },
     "execution_count": 21,
     "metadata": {},
     "output_type": "execute_result"
    }
   ],
   "source": [
    "traindataset = datasets.HeartDataset1D(trainfile, target=\"target\")\n",
    "validdataset = datasets.HeartDataset1D(validfile, target=\"target\")\n",
    "traindataset, validdataset\n",
    "\n",
    "# moving to mps device crashes the jypyter kernel, I wasnt able to fix that..."
   ]
  },
  {
   "cell_type": "markdown",
   "metadata": {},
   "source": [
    "Visualise it as 1D data"
   ]
  },
  {
   "cell_type": "code",
   "execution_count": 22,
   "metadata": {},
   "outputs": [
    {
     "name": "stdout",
     "output_type": "stream",
     "text": [
      "torch.Size([192, 1]) tensor(0)\n"
     ]
    },
    {
     "data": {
      "image/png": "[encoded data removed]",
      "text/plain": [
       "<Figure size 640x480 with 1 Axes>"
      ]
     },
     "metadata": {},
     "output_type": "display_data"
    }
   ],
   "source": [
    "x, y = traindataset[0]\n",
    "viz = x.squeeze().cpu().numpy()\n",
    "sns.lineplot(x=range(len(viz)), y=viz)\n",
    "title = 'normal' if y == 0 else 'abnormal'\n",
    "plt.title(f\"Label: {title}\");\n",
    "print(x.shape, y)"
   ]
  },
  {
   "cell_type": "code",
   "execution_count": 23,
   "metadata": {},
   "outputs": [],
   "source": [
    "from mads_hackathon.models import TransformerConfig as Config\n",
    "\n",
    "config = Config(\n",
    "    batchsize=128,\n",
    "    dropout=0.1,\n",
    "    input_channels=1,\n",
    "    hidden=64,\n",
    "    kernel_size=3,\n",
    "    stride=1,\n",
    "    num_heads=2,\n",
    "    num_blocks=2,\n",
    "    num_classes=5,\n",
    ")"
   ]
  },
  {
   "cell_type": "markdown",
   "metadata": {},
   "source": [
    "Set up the streamer"
   ]
  },
  {
   "cell_type": "code",
   "execution_count": 24,
   "metadata": {},
   "outputs": [
    {
     "data": {
      "text/plain": [
       "(684, 85)"
      ]
     },
     "execution_count": 24,
     "metadata": {},
     "output_type": "execute_result"
    }
   ],
   "source": [
    "trainstreamer = BaseDatastreamer(traindataset, preprocessor = BasePreprocessor(), batchsize=config.batchsize)\n",
    "validstreamer = BaseDatastreamer(validdataset, preprocessor = BasePreprocessor(), batchsize=config.batchsize)\n",
    "len(trainstreamer), len(validstreamer)"
   ]
  },
  {
   "cell_type": "markdown",
   "metadata": {},
   "source": [
    "Note, the layers have different assumptions about the data structure:\n",
    "- streamer:         (batch, seq_len, channels)\n",
    "- conv1d:           (batch, channels, seq_len)\n",
    "- pos_encoding:     (batch, seq_len, channels)\n",
    "- gru (batchfirst): (batch, seq_len, channels)\n",
    "- attention:        (batch, seq_len, channels)\n",
    "\n",
    "As you can see, its just the conv1d layer that expects channels as the second dimension. Using a conv1d layer you\n",
    "will need to transpose the dimensions, I will show how to do that in the Transformer `forward` method.\n",
    "\n",
    "Again, the strategy of creating a block helps us stack the architecture more easily."
   ]
  },
  {
   "cell_type": "code",
   "execution_count": 25,
   "metadata": {},
   "outputs": [],
   "source": [
    "from mads_hackathon.models import Transformer\n",
    "model = Transformer(config)"
   ]
  },
  {
   "cell_type": "code",
   "execution_count": 26,
   "metadata": {},
   "outputs": [
    {
     "data": {
      "text/plain": [
       "(torch.Size([128, 192, 1]), torch.Size([128]))"
      ]
     },
     "execution_count": 26,
     "metadata": {},
     "output_type": "execute_result"
    }
   ],
   "source": [
    "x, y = next(trainstreamer.stream())\n",
    "x.shape, y.shape"
   ]
  },
  {
   "cell_type": "code",
   "execution_count": 27,
   "metadata": {},
   "outputs": [
    {
     "data": {
      "text/plain": [
       "==========================================================================================\n",
       "Layer (type:depth-idx)                   Output Shape              Param #\n",
       "==========================================================================================\n",
       "Transformer                              [128, 5]                  --\n",
       "├─Conv1d: 1-1                            [128, 64, 192]            256\n",
       "├─PositionalEncoding: 1-2                [128, 192, 64]            --\n",
       "│    └─Dropout: 2-1                      [128, 192, 64]            --\n",
       "├─ModuleList: 1-3                        --                        --\n",
       "│    └─TransformerBlock: 2-2             [128, 192, 64]            --\n",
       "│    │    └─MultiheadAttention: 3-1      [128, 192, 64]            16,640\n",
       "│    │    └─LayerNorm: 3-2               [128, 192, 64]            128\n",
       "│    │    └─Sequential: 3-3              [128, 192, 64]            8,320\n",
       "│    │    └─LayerNorm: 3-4               [128, 192, 64]            128\n",
       "│    └─TransformerBlock: 2-3             [128, 192, 64]            --\n",
       "│    │    └─MultiheadAttention: 3-5      [128, 192, 64]            16,640\n",
       "│    │    └─LayerNorm: 3-6               [128, 192, 64]            128\n",
       "│    │    └─Sequential: 3-7              [128, 192, 64]            8,320\n",
       "│    │    └─LayerNorm: 3-8               [128, 192, 64]            128\n",
       "├─Linear: 1-4                            [128, 5]                  325\n",
       "==========================================================================================\n",
       "Total params: 51,013\n",
       "Trainable params: 51,013\n",
       "Non-trainable params: 0\n",
       "Total mult-adds (Units.MEGABYTES): 8.53\n",
       "==========================================================================================\n",
       "Input size (MB): 0.10\n",
       "Forward/backward pass size (MB): 113.25\n",
       "Params size (MB): 0.07\n",
       "Estimated Total Size (MB): 113.42\n",
       "=========================================================================================="
      ]
     },
     "execution_count": 27,
     "metadata": {},
     "output_type": "execute_result"
    }
   ],
   "source": [
    "from torchinfo import summary\n",
    "\n",
    "summary(model, input_size=x.shape)"
   ]
  },
  {
   "cell_type": "code",
   "execution_count": 28,
   "metadata": {},
   "outputs": [
    {
     "data": {
      "text/plain": [
       "torch.Size([128, 5])"
      ]
     },
     "execution_count": 28,
     "metadata": {},
     "output_type": "execute_result"
    }
   ],
   "source": [
    "yhat = model(x)\n",
    "yhat.shape"
   ]
  },
  {
   "cell_type": "code",
   "execution_count": 31,
   "metadata": {},
   "outputs": [
    {
     "data": {
      "text/plain": [
       "tensor([[-0.2479,  0.4577,  0.5151, -0.7025,  0.3520],\n",
       "        [-0.2292,  0.4530,  0.5657, -0.7041,  0.3041],\n",
       "        [-0.2422,  0.1564,  0.7366, -0.7395,  0.2851],\n",
       "        [-0.2454,  0.2747,  0.6689, -0.7583,  0.2950],\n",
       "        [-0.2427,  0.2610,  0.7020, -0.7451,  0.2807],\n",
       "        [-0.2279,  0.2269,  0.6946, -0.7707,  0.3221],\n",
       "        [-0.2404,  0.1244,  0.7344, -0.7393,  0.2942],\n",
       "        [-0.2467,  0.2643,  0.6745, -0.7551,  0.3093],\n",
       "        [-0.2546,  0.2300,  0.6819, -0.7555,  0.3066],\n",
       "        [-0.2367,  0.1813,  0.7230, -0.7751,  0.2945],\n",
       "        [-0.2345,  0.1665,  0.6989, -0.7627,  0.3239],\n",
       "        [-0.2263,  0.2265,  0.7069, -0.7657,  0.3071],\n",
       "        [-0.2294,  0.1856,  0.6946, -0.7496,  0.3195],\n",
       "        [-0.2433,  0.1626,  0.7370, -0.7889,  0.2943],\n",
       "        [-0.2499,  0.2782,  0.6383, -0.7274,  0.3241],\n",
       "        [-0.2054,  0.1719,  0.7059, -0.7815,  0.3097],\n",
       "        [-0.2321,  0.1688,  0.7202, -0.7809,  0.3058],\n",
       "        [-0.2272,  0.1536,  0.7238, -0.7872,  0.3015],\n",
       "        [-0.2422,  0.1725,  0.7306, -0.7883,  0.3038],\n",
       "        [-0.2381,  0.1922,  0.7043, -0.7736,  0.2932],\n",
       "        [-0.2409,  0.2072,  0.6914, -0.7592,  0.3087],\n",
       "        [-0.2501,  0.2736,  0.6582, -0.7337,  0.3024],\n",
       "        [-0.2404,  0.1972,  0.6965, -0.7533,  0.2836],\n",
       "        [-0.2393,  0.4465,  0.5096, -0.6987,  0.3399],\n",
       "        [-0.2465,  0.2864,  0.6736, -0.7389,  0.3029],\n",
       "        [-0.2496,  0.2823,  0.6404, -0.7604,  0.3031],\n",
       "        [-0.2787,  0.2152,  0.7149, -0.7611,  0.3242],\n",
       "        [-0.2517,  0.2577,  0.6866, -0.7310,  0.2953],\n",
       "        [-0.2197,  0.1948,  0.7189, -0.7666,  0.3061],\n",
       "        [-0.2286,  0.2317,  0.6951, -0.7508,  0.3314],\n",
       "        [-0.2513,  0.2315,  0.6944, -0.7589,  0.2968],\n",
       "        [-0.2490,  0.1954,  0.7125, -0.7766,  0.2727],\n",
       "        [-0.2413,  0.1749,  0.7179, -0.7804,  0.3305],\n",
       "        [-0.2215,  0.2220,  0.7039, -0.7589,  0.3075],\n",
       "        [-0.2343,  0.1582,  0.7265, -0.7682,  0.3130],\n",
       "        [-0.2186,  0.1590,  0.7367, -0.7617,  0.3130],\n",
       "        [-0.2168,  0.1930,  0.6629, -0.7786,  0.3282],\n",
       "        [-0.2442,  0.1805,  0.7197, -0.7682,  0.2965],\n",
       "        [-0.2631,  0.3739,  0.5789, -0.7483,  0.3257],\n",
       "        [-0.2227,  0.1844,  0.7361, -0.7870,  0.2932],\n",
       "        [-0.2484,  0.2515,  0.6895, -0.7399,  0.3023],\n",
       "        [-0.2621,  0.2248,  0.6529, -0.7616,  0.3250],\n",
       "        [-0.2272,  0.2715,  0.6567, -0.7447,  0.3308],\n",
       "        [-0.2199,  0.1978,  0.7022, -0.7609,  0.3204],\n",
       "        [-0.2448,  0.3473,  0.6100, -0.7354,  0.3104],\n",
       "        [-0.2479,  0.3485,  0.5992, -0.7057,  0.3208],\n",
       "        [-0.2235,  0.2205,  0.6913, -0.7708,  0.3019],\n",
       "        [-0.2477,  0.3857,  0.5886, -0.7144,  0.2867],\n",
       "        [-0.2340,  0.1545,  0.7270, -0.7727,  0.2971],\n",
       "        [-0.2452,  0.2184,  0.6810, -0.7564,  0.2958],\n",
       "        [-0.2373,  0.1961,  0.7327, -0.7671,  0.2898],\n",
       "        [-0.2352,  0.1747,  0.7008, -0.7712,  0.2899],\n",
       "        [-0.2671,  0.2754,  0.6633, -0.7472,  0.3101],\n",
       "        [-0.2549,  0.2534,  0.6516, -0.7330,  0.3235],\n",
       "        [-0.2559,  0.2221,  0.6795, -0.7857,  0.3067],\n",
       "        [-0.2315,  0.3285,  0.6061, -0.7413,  0.3252],\n",
       "        [-0.2416,  0.2192,  0.6175, -0.7299,  0.3104],\n",
       "        [-0.2517,  0.2518,  0.6655, -0.7333,  0.3036],\n",
       "        [-0.2594,  0.2884,  0.6593, -0.7332,  0.3119],\n",
       "        [-0.2230,  0.2280,  0.6863, -0.7589,  0.3372],\n",
       "        [-0.2458,  0.1841,  0.7226, -0.7951,  0.2970],\n",
       "        [-0.2411,  0.2474,  0.6718, -0.7584,  0.3164],\n",
       "        [-0.2425,  0.2795,  0.6589, -0.7300,  0.2990],\n",
       "        [-0.2224,  0.2448,  0.6869, -0.7498,  0.3023],\n",
       "        [-0.2423,  0.1622,  0.7431, -0.7961,  0.2838],\n",
       "        [-0.2457,  0.1823,  0.7064, -0.7522,  0.3137],\n",
       "        [-0.2287,  0.1825,  0.7220, -0.7769,  0.2833],\n",
       "        [-0.2211,  0.1748,  0.7483, -0.7869,  0.2903],\n",
       "        [-0.2354,  0.2863,  0.6761, -0.7484,  0.2968],\n",
       "        [-0.2409,  0.3249,  0.6286, -0.7265,  0.3294],\n",
       "        [-0.2378,  0.4783,  0.5012, -0.6938,  0.3301],\n",
       "        [-0.2663,  0.1478,  0.7242, -0.8098,  0.3077],\n",
       "        [-0.2484,  0.1868,  0.6864, -0.7742,  0.3282],\n",
       "        [-0.2572,  0.1682,  0.7243, -0.7878,  0.3000],\n",
       "        [-0.2297,  0.1669,  0.7155, -0.7867,  0.3266],\n",
       "        [-0.2338,  0.1739,  0.7149, -0.7550,  0.3038],\n",
       "        [-0.2380,  0.1484,  0.7409, -0.7900,  0.2836],\n",
       "        [-0.2426,  0.1821,  0.7402, -0.7699,  0.2881],\n",
       "        [-0.2286,  0.4988,  0.4713, -0.7165,  0.3192],\n",
       "        [-0.2232,  0.2930,  0.6649, -0.7461,  0.3077],\n",
       "        [-0.2323,  0.3285,  0.5987, -0.7402,  0.3077],\n",
       "        [-0.2199,  0.2674,  0.6626, -0.7319,  0.3283],\n",
       "        [-0.2427,  0.2305,  0.6890, -0.7643,  0.2983],\n",
       "        [-0.2379,  0.3601,  0.6084, -0.7626,  0.3394],\n",
       "        [-0.2529,  0.1928,  0.7322, -0.7667,  0.3090],\n",
       "        [-0.2520,  0.1499,  0.7178, -0.7718,  0.2968],\n",
       "        [-0.2303,  0.1597,  0.7213, -0.7933,  0.3399],\n",
       "        [-0.2486,  0.2386,  0.6899, -0.7529,  0.3107],\n",
       "        [-0.2383,  0.3612,  0.5820, -0.7278,  0.3285],\n",
       "        [-0.2354,  0.2189,  0.6841, -0.7672,  0.3129],\n",
       "        [-0.2303,  0.1925,  0.7084, -0.7497,  0.3040],\n",
       "        [-0.2288,  0.3161,  0.6344, -0.7681,  0.3084],\n",
       "        [-0.2252,  0.2094,  0.7031, -0.7444,  0.3027],\n",
       "        [-0.2334,  0.1587,  0.7461, -0.7595,  0.2848],\n",
       "        [-0.2517,  0.3159,  0.6553, -0.7525,  0.3059],\n",
       "        [-0.2791,  0.1934,  0.7360, -0.7634,  0.2958],\n",
       "        [-0.2413,  0.2367,  0.6628, -0.7894,  0.3208],\n",
       "        [-0.2423,  0.2423,  0.6788, -0.7801,  0.2930],\n",
       "        [-0.2520,  0.1891,  0.7049, -0.7879,  0.2934],\n",
       "        [-0.2248,  0.4757,  0.5363, -0.6964,  0.3255],\n",
       "        [-0.2313,  0.2008,  0.7507, -0.7744,  0.2798],\n",
       "        [-0.2433,  0.1811,  0.7231, -0.7721,  0.2930],\n",
       "        [-0.2252,  0.2604,  0.6677, -0.7348,  0.3291],\n",
       "        [-0.2195,  0.1391,  0.7534, -0.8018,  0.2969],\n",
       "        [-0.2439,  0.1860,  0.6967, -0.7581,  0.2952],\n",
       "        [-0.2247,  0.4231,  0.5787, -0.6960,  0.2819],\n",
       "        [-0.2319,  0.1419,  0.7340, -0.7825,  0.2736],\n",
       "        [-0.2448,  0.1885,  0.7520, -0.7788,  0.2996],\n",
       "        [-0.2553,  0.1630,  0.6880, -0.7751,  0.2999],\n",
       "        [-0.2282,  0.3994,  0.5767, -0.7138,  0.3491],\n",
       "        [-0.2554,  0.3697,  0.6038, -0.7051,  0.2854],\n",
       "        [-0.2489,  0.4648,  0.5446, -0.6908,  0.3098],\n",
       "        [-0.2460,  0.2410,  0.6697, -0.7510,  0.2995],\n",
       "        [-0.2453,  0.4187,  0.5698, -0.7037,  0.3361],\n",
       "        [-0.2641,  0.1547,  0.7377, -0.7690,  0.2925],\n",
       "        [-0.2384,  0.3327,  0.6184, -0.7035,  0.3196],\n",
       "        [-0.2292,  0.1632,  0.7239, -0.7887,  0.2999],\n",
       "        [-0.2614,  0.2891,  0.5890, -0.7289,  0.3337],\n",
       "        [-0.2466,  0.1707,  0.7085, -0.7542,  0.3171],\n",
       "        [-0.2535,  0.1901,  0.7325, -0.7849,  0.2849],\n",
       "        [-0.2368,  0.1909,  0.7139, -0.7636,  0.3173],\n",
       "        [-0.2381,  0.1912,  0.7136, -0.7608,  0.3125],\n",
       "        [-0.2626,  0.2393,  0.6756, -0.7506,  0.3276],\n",
       "        [-0.2476,  0.2342,  0.7067, -0.7133,  0.3139],\n",
       "        [-0.2284,  0.2649,  0.6982, -0.7688,  0.3166],\n",
       "        [-0.2435,  0.2552,  0.7040, -0.7517,  0.2893],\n",
       "        [-0.2565,  0.2794,  0.6848, -0.7559,  0.3233],\n",
       "        [-0.2388,  0.2476,  0.6386, -0.7559,  0.3182]],\n",
       "       grad_fn=<AddmmBackward0>)"
      ]
     },
     "execution_count": 31,
     "metadata": {},
     "output_type": "execute_result"
    }
   ],
   "source": [
    "yhat"
   ]
  },
  {
   "cell_type": "code",
   "execution_count": 29,
   "metadata": {},
   "outputs": [],
   "source": [
    "from mads_hackathon.metrics import caluclate_cfm\n",
    "f1micro = metrics.F1Score(average='micro')\n",
    "f1macro = metrics.F1Score(average='macro')\n",
    "precision = metrics.Precision('micro')\n",
    "recall = metrics.Recall('macro')\n",
    "accuracy = metrics.Accuracy()"
   ]
  },
  {
   "cell_type": "code",
   "execution_count": 30,
   "metadata": {},
   "outputs": [
    {
     "name": "stderr",
     "output_type": "stream",
     "text": [
      "\u001b[32m2024-11-25 10:37:20.378\u001b[0m | \u001b[1mINFO    \u001b[0m | \u001b[36mmltrainer.settings\u001b[0m:\u001b[36mcheck_path\u001b[0m:\u001b[36m61\u001b[0m - \u001b[1mCreated logdir /Users/tijsvandervelden/Development/hackathon/hackathon/notebooks/logs/heart1D\u001b[0m\n"
     ]
    },
    {
     "ename": "NameError",
     "evalue": "name 'dev' is not defined",
     "output_type": "error",
     "traceback": [
      "\u001b[0;31m---------------------------------------------------------------------------\u001b[0m",
      "\u001b[0;31mNameError\u001b[0m                                 Traceback (most recent call last)",
      "Cell \u001b[0;32mIn[30], line 21\u001b[0m\n\u001b[1;32m     19\u001b[0m mlflow\u001b[38;5;241m.\u001b[39mset_tag(\u001b[38;5;124m\"\u001b[39m\u001b[38;5;124mmodel\u001b[39m\u001b[38;5;124m\"\u001b[39m, \u001b[38;5;124m\"\u001b[39m\u001b[38;5;124mTransfomer\u001b[39m\u001b[38;5;124m\"\u001b[39m)\n\u001b[1;32m     20\u001b[0m mlflow\u001b[38;5;241m.\u001b[39mset_tag(\u001b[38;5;124m\"\u001b[39m\u001b[38;5;124mdataset\u001b[39m\u001b[38;5;124m\"\u001b[39m, \u001b[38;5;124m\"\u001b[39m\u001b[38;5;124mheart1D\u001b[39m\u001b[38;5;124m\"\u001b[39m)\n\u001b[0;32m---> 21\u001b[0m mlflow\u001b[38;5;241m.\u001b[39mset_tag(\u001b[38;5;124m\"\u001b[39m\u001b[38;5;124mdev\u001b[39m\u001b[38;5;124m\"\u001b[39m, \u001b[43mdev\u001b[49m)\n\u001b[1;32m     22\u001b[0m mlflow\u001b[38;5;241m.\u001b[39mlog_params(asdict(config))\n\u001b[1;32m     23\u001b[0m mlflow\u001b[38;5;241m.\u001b[39mlog_param(\u001b[38;5;124m\"\u001b[39m\u001b[38;5;124mepochs\u001b[39m\u001b[38;5;124m\"\u001b[39m, settings\u001b[38;5;241m.\u001b[39mepochs)\n",
      "\u001b[0;31mNameError\u001b[0m: name 'dev' is not defined"
     ]
    }
   ],
   "source": [
    "from mltrainer import Trainer, TrainerSettings, ReportTypes\n",
    "from dataclasses import asdict\n",
    "loss_fn = torch.nn.CrossEntropyLoss()\n",
    "\n",
    "with mlflow.start_run():\n",
    "    optimizer = torch.optim.Adam\n",
    "\n",
    "    settings = TrainerSettings(\n",
    "        epochs=5,\n",
    "        metrics=[accuracy, f1micro, f1macro, precision, recall],\n",
    "        logdir=\"logs/heart1D\",\n",
    "        train_steps=len(trainstreamer),\n",
    "        valid_steps=len(validstreamer),\n",
    "        reporttypes=[ReportTypes.TENSORBOARD, ReportTypes.MLFLOW],\n",
    "        scheduler_kwargs=None,\n",
    "        earlystop_kwargs=None\n",
    "    )\n",
    "\n",
    "    mlflow.set_tag(\"model\", \"Transfomer\")\n",
    "    mlflow.set_tag(\"dataset\", \"heart1D\")\n",
    "    mlflow.set_tag(\"dev\", dev)\n",
    "    mlflow.log_params(asdict(config))\n",
    "    mlflow.log_param(\"epochs\", settings.epochs)\n",
    "    mlflow.log_param(\"optimizer\", str(optimizer))\n",
    "    mlflow.log_param(\"scheduler\", \"None\")\n",
    "    mlflow.log_param(\"earlystop\", \"None\")\n",
    "    mlflow.log_params(settings.optimizer_kwargs)\n",
    "\n",
    "    trainer = Trainer(\n",
    "        model=model,\n",
    "        settings=settings,\n",
    "        loss_fn=loss_fn,\n",
    "        optimizer=optimizer,\n",
    "        traindataloader=trainstreamer.stream(),\n",
    "        validdataloader=validstreamer.stream(),\n",
    "        scheduler=None,\n",
    "        )\n",
    "    trainer.loop()\n",
    "    cfm = caluclate_cfm(model, teststreamer)\n",
    "    for i, tp in enumerate(np.diag(cfm)):\n",
    "        mlflow.log_metric(f\"TP_{i}\", tp)\n",
    "plot = sns.heatmap(cfm, annot=cfm, fmt=\".3f\")\n",
    "plot.set(xlabel=\"Predicted\", ylabel=\"Target\")"
   ]
  },
  {
   "cell_type": "code",
   "execution_count": null,
   "metadata": {},
   "outputs": [],
   "source": [
    "plot = sns.heatmap(cfm, annot=cfm, fmt=\".3f\")\n",
    "plot.set(xlabel=\"Predicted\", ylabel=\"Target\")"
   ]
  }
 ],
 "metadata": {
  "kernelspec": {
   "display_name": ".venv",
   "language": "python",
   "name": "python3"
  },
  "language_info": {
   "codemirror_mode": {
    "name": "ipython",
    "version": 3
   },
   "file_extension": ".py",
   "mimetype": "text/x-python",
   "name": "python",
   "nbconvert_exporter": "python",
   "pygments_lexer": "ipython3",
   "version": "3.11.9"
  }
 },
 "nbformat": 4,
 "nbformat_minor": 2
}
